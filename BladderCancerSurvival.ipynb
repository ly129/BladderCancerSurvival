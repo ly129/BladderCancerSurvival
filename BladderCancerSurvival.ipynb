{
 "cells": [
  {
   "cell_type": "markdown",
   "metadata": {},
   "source": [
    "# Advanced Urothelial Carcinoma Survival\n",
    "## 1. Cohort Creation"
   ]
  },
  {
   "cell_type": "markdown",
   "metadata": {},
   "source": [
    "### 1.1 Inclusion-exclusion criteria\n",
    "#### a) Inclusion: patients diagnosed with advanced urothelial cancinoma between 01/01/2011 and 12/01/2021"
   ]
  },
  {
   "cell_type": "code",
   "execution_count": 3,
   "metadata": {
    "vscode": {
     "languageId": "r"
    }
   },
   "outputs": [
    {
     "data": {
      "text/html": [
       "11276"
      ],
      "text/latex": [
       "11276"
      ],
      "text/markdown": [
       "11276"
      ],
      "text/plain": [
       "[1] 11276"
      ]
     },
     "metadata": {},
     "output_type": "display_data"
    }
   ],
   "source": [
    "setwd(\"~/Library/CloudStorage/Box-Box/RWD/BladderCancerSurvival/code/\")\n",
    "eauc <- read.csv(\"../Bladder/Enhanced_AdvUrothelial.csv\")\n",
    "eauc$AdvancedDiagnosisDate <- as.Date(eauc$AdvancedDiagnosisDate)\n",
    "\n",
    "ptid <- subset(eauc, subset = AdvancedDiagnosisDate >= as.Date(\"2011-01-01\") & \n",
    "                              AdvancedDiagnosisDate <= as.Date(\"2021-12-01\"))$PatientID\n",
    "length(ptid)"
   ]
  }
 ],
 "metadata": {
  "kernelspec": {
   "display_name": "R",
   "language": "R",
   "name": "ir"
  },
  "language_info": {
   "codemirror_mode": "r",
   "file_extension": ".r",
   "mimetype": "text/x-r-source",
   "name": "R",
   "pygments_lexer": "r",
   "version": "4.4.1"
  }
 },
 "nbformat": 4,
 "nbformat_minor": 2
}
